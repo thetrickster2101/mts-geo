{
 "cells": [
  {
   "cell_type": "code",
   "execution_count": 8,
   "id": "80ea50c2",
   "metadata": {},
   "outputs": [],
   "source": [
    "import pandas as pd\n",
    "import numpy as np\n",
    "import json\n",
    "import os\n",
    "pd.set_option('display.max_columns', 256)\n",
    "pd.set_option('display.max_rows', 512)\n",
    "from matplotlib import pyplot as plt\n",
    "\n",
    "from collections import Counter\n",
    "pd.set_option('display.max_rows', 512)\n",
    "pd.set_option('display.max_columns', 512)\n",
    "\n",
    "\n",
    "import shapely\n",
    "import geopandas as gpd\n",
    "import h3\n",
    "import requests\n",
    "import math\n",
    "from geopy import distance\n",
    "\n",
    "from sklearn.model_selection import train_test_split\n",
    "from sklearn.metrics import mean_absolute_error, mean_absolute_percentage_error\n",
    "\n",
    "from catboost import CatBoostRegressor, Pool\n"
   ]
  },
  {
   "cell_type": "markdown",
   "id": "b3ee9809",
   "metadata": {},
   "source": [
    "### Вернемся к датасету недвижимости\n",
    "### Задача - научиться предсказывать цену \n",
    "### Метрика - MAPE"
   ]
  },
  {
   "cell_type": "code",
   "execution_count": null,
   "id": "4574214b",
   "metadata": {},
   "outputs": [],
   "source": [
    "realty_data = pd.read_csv('data/realty_data.csv')\n",
    "realty_data.head(5)"
   ]
  },
  {
   "cell_type": "markdown",
   "id": "ab1222f1",
   "metadata": {},
   "source": [
    "### отложим треть выборки"
   ]
  },
  {
   "cell_type": "code",
   "execution_count": null,
   "id": "f7b10711",
   "metadata": {},
   "outputs": [],
   "source": [
    "realty_data['split_city'] = realty_data.apply(lambda t: str(t.city)+'/'+str(t.settlement), axis=1)\n",
    "\n",
    "realty_train, realty_val, _, _ = train_test_split(\n",
    "    realty_data.drop(['split_city'], axis=1),\n",
    "    realty_data[[]],\n",
    "    test_size=0.33,\n",
    "    random_state=42,\n",
    "    stratify=realty_data.split_city\n",
    ")\n",
    "\n",
    "y_val = realty_val.price\n",
    "\n",
    "print(realty_train.shape)\n",
    "print(realty_val.shape)\n"
   ]
  },
  {
   "cell_type": "markdown",
   "id": "e3869a08",
   "metadata": {},
   "source": [
    "### Бейзлайн 1\n",
    "\n",
    "### Будем предсказывать итоговую цену как произведение средней цены локации (города + района) и площади"
   ]
  },
  {
   "cell_type": "code",
   "execution_count": null,
   "id": "d1af07ef",
   "metadata": {},
   "outputs": [],
   "source": [
    "avg_price_location = realty_train.fillna('N/A').groupby(\n",
    "    ['city', 'settlement', 'district'], dropna=False\n",
    ")[['price', 'total_square']].agg(sum).reset_index()\n",
    "\n",
    "avg_price_location['avg_price'] = avg_price_location['price']/avg_price_location['total_square']\n",
    "\n",
    "naive_price_location = dict(\n",
    "    avg_price_location.apply(lambda t: ((t.city, t.settlement, t.district), t.avg_price), axis=1).values\n",
    ")\n"
   ]
  },
  {
   "cell_type": "code",
   "execution_count": null,
   "id": "c8c4e89c",
   "metadata": {},
   "outputs": [],
   "source": [
    "y_pred1 = realty_val[['city', 'settlement', 'district', 'total_square']].fillna('N/A').apply(\n",
    "    lambda t: naive_price_location.get((t.city, t.settlement, t.district))*t.total_square, axis=1\n",
    ")\n"
   ]
  },
  {
   "cell_type": "code",
   "execution_count": null,
   "id": "8eb5cdf0",
   "metadata": {},
   "outputs": [],
   "source": [
    "print('MAE is: {value:,}'.format(value=round(mean_absolute_error(y_val, y_pred1))))\n",
    "print('MAPE is : {value:.2f}%'.format(value=100.0*mean_absolute_percentage_error(y_val, y_pred1)))"
   ]
  },
  {
   "cell_type": "markdown",
   "id": "eda8f53f",
   "metadata": {},
   "source": [
    "### Бейзлайн 2\n",
    "\n",
    "### Попробуем сделать то же самое, но агрегируя до почтового индекса\n"
   ]
  },
  {
   "cell_type": "code",
   "execution_count": null,
   "id": "f859fe31",
   "metadata": {},
   "outputs": [],
   "source": [
    "postcode_df = realty_train[['postcode', 'total_square']]\n",
    "\n",
    "# будем определять цену только если количество предложений не меньше 5\n",
    "postcode_count = dict(postcode_df.groupby('postcode').size().reset_index().values)\n",
    "postcodes = set(key for key, value in postcode_count.items() if value >= 5)\n"
   ]
  },
  {
   "cell_type": "code",
   "execution_count": null,
   "id": "9a1e413e",
   "metadata": {},
   "outputs": [],
   "source": [
    "postcode_df['group_index'] = postcode_df.postcode.apply(lambda t: t if t in postcodes else -1)\n",
    "postcode_df['price'] = realty_train.price\n"
   ]
  },
  {
   "cell_type": "code",
   "execution_count": null,
   "id": "86b5efcb",
   "metadata": {},
   "outputs": [],
   "source": [
    "avg_price_postcode = postcode_df.groupby('group_index')[['price', 'total_square']].agg(sum).reset_index()\n",
    "avg_price_postcode['avg_price'] = avg_price_postcode['price']/avg_price_postcode['total_square']\n",
    "\n",
    "naive_price_postcode = dict(zip(avg_price_postcode.group_index, avg_price_postcode.avg_price))\n",
    "default_naive_price = naive_price_postcode.get(-1)\n"
   ]
  },
  {
   "cell_type": "code",
   "execution_count": null,
   "id": "413c3f4b",
   "metadata": {},
   "outputs": [],
   "source": [
    "y_pred2 = realty_val.apply(\n",
    "    lambda t: naive_price_postcode.get(t.postcode, default_naive_price)*t.total_square, axis=1\n",
    ")\n"
   ]
  },
  {
   "cell_type": "code",
   "execution_count": null,
   "id": "0dfb6f44",
   "metadata": {},
   "outputs": [],
   "source": [
    "print('MAE is: {value:,}'.format(value=round(mean_absolute_error(y_val, y_pred2))))\n",
    "print('MAPE is : {value:.2f}%'.format(value=100.0*mean_absolute_percentage_error(y_val, y_pred2)))\n"
   ]
  },
  {
   "cell_type": "markdown",
   "id": "3165486f",
   "metadata": {},
   "source": [
    "### бейзлайн 3\n",
    "\n",
    "### Бустинг на (тех же) 5 фичах + количество комнат и этаж"
   ]
  },
  {
   "cell_type": "code",
   "execution_count": null,
   "id": "e7cd659e",
   "metadata": {},
   "outputs": [],
   "source": [
    "train_num_cols = ['total_square'] + ['rooms', 'floor']\n",
    "train_cat_cols = {\n",
    "    'city': 'N/A',\n",
    "    'settlement': 'N/A',\n",
    "    'district': 'N/A',\n",
    "    'postcode': 0.0\n",
    "}"
   ]
  },
  {
   "cell_type": "code",
   "execution_count": null,
   "id": "4d5de626",
   "metadata": {},
   "outputs": [],
   "source": [
    "catboost_df = realty_train[list(train_cat_cols.keys()) + train_num_cols].copy()\n",
    "catboost_eval_df = realty_val[list(train_cat_cols.keys()) + train_num_cols].copy()\n",
    "\n",
    "#заполним пропущенные значения\n",
    "for feature, value in train_cat_cols.items():\n",
    "    catboost_df[feature] = catboost_df[feature].fillna(value)\n",
    "    catboost_eval_df[feature] = catboost_eval_df[feature].fillna(value)\n",
    "    if catboost_df[feature].dtypes != 'O':\n",
    "        catboost_df[feature] = catboost_df[feature].astype('int')\n",
    "        catboost_eval_df[feature] = catboost_eval_df[feature].astype('int')\n"
   ]
  },
  {
   "cell_type": "code",
   "execution_count": null,
   "id": "80f6788a",
   "metadata": {},
   "outputs": [],
   "source": [
    "train_index, test_index, _, _ = train_test_split(\n",
    "    catboost_df.index,\n",
    "    catboost_df[[]],\n",
    "    test_size=0.2\n",
    ")\n"
   ]
  },
  {
   "cell_type": "code",
   "execution_count": null,
   "id": "e78b47be",
   "metadata": {},
   "outputs": [],
   "source": [
    "pool_train = Pool(\n",
    "    catboost_df.loc[train_index],\n",
    "    realty_train.price.loc[train_index],\n",
    "    cat_features = list(train_cat_cols.keys())\n",
    ")\n",
    "pool_test = Pool(\n",
    "    catboost_df.loc[test_index],\n",
    "    realty_train.price.loc[test_index],\n",
    "    cat_features = list(train_cat_cols.keys())\n",
    ")\n",
    "\n",
    "pool_val = Pool(\n",
    "    catboost_eval_df,\n",
    "    realty_val,\n",
    "    cat_features = list(train_cat_cols.keys())\n",
    ")\n"
   ]
  },
  {
   "cell_type": "code",
   "execution_count": null,
   "id": "7df7bd42",
   "metadata": {},
   "outputs": [],
   "source": [
    "model = CatBoostRegressor(\n",
    "    depth=4,\n",
    "    iterations=5000,\n",
    "    learning_rate=0.2,\n",
    "    loss_function='MAE',\n",
    "    verbose=250,\n",
    "    od_type='IncToDec',\n",
    "    od_pval=0.1\n",
    ")\n",
    "model.fit(pool_train, eval_set=pool_test)"
   ]
  },
  {
   "cell_type": "code",
   "execution_count": null,
   "id": "f4c8eb88",
   "metadata": {},
   "outputs": [],
   "source": [
    "y_pred3 = model.predict(pool_val)"
   ]
  },
  {
   "cell_type": "code",
   "execution_count": null,
   "id": "66551d0d",
   "metadata": {},
   "outputs": [],
   "source": [
    "print('MAE is: {value:,}'.format(value=round(mean_absolute_error(y_val, y_pred3))))\n",
    "print('MAPE is : {value:.2f}%'.format(value=100.0*mean_absolute_percentage_error(y_val, y_pred3)))\n"
   ]
  },
  {
   "cell_type": "markdown",
   "id": "f7e3837b",
   "metadata": {},
   "source": [
    "### Теперь попробуем собрать фичи\n",
    "\n",
    "### пример - супермаркеты"
   ]
  },
  {
   "cell_type": "markdown",
   "id": "747cbd40",
   "metadata": {},
   "source": [
    "### достанем минимальную/максимальную широту/долготу - нужно ограничить запрос"
   ]
  },
  {
   "cell_type": "code",
   "execution_count": null,
   "id": "0fcb42fb",
   "metadata": {},
   "outputs": [],
   "source": [
    "def get_utm_code(lat: float, lon:float):\n",
    "    utm_band = int((lon+180) / 6) % 60 + 1\n",
    "    utm_band = f'0{utm_band}'[-2:]\n",
    "    utm  = ('EPSG:326' if lat > 0 else 'EPSG:327') + utm_band\n",
    "    return utm\n"
   ]
  },
  {
   "cell_type": "code",
   "execution_count": null,
   "id": "b98330f8",
   "metadata": {},
   "outputs": [],
   "source": [
    "min_lat = realty_data.lat.min()\n",
    "max_lat = realty_data.lat.max()\n",
    "min_lon = realty_data.lon.min()\n",
    "max_lon = realty_data.lon.max()\n",
    "\n",
    "print(min_lat, max_lat, min_lon, max_lon)"
   ]
  },
  {
   "cell_type": "markdown",
   "id": "6e6d6f9f",
   "metadata": {},
   "source": [
    "### сдвинем на 1000 метров наружу"
   ]
  },
  {
   "cell_type": "code",
   "execution_count": null,
   "id": "714a1798",
   "metadata": {},
   "outputs": [],
   "source": [
    "# сдвинем на 1000 метров\n",
    "bbox = [\n",
    "    (min_lon, min_lat),\n",
    "    (min_lon, max_lat),\n",
    "    (max_lon, max_lat),\n",
    "    (max_lon, min_lat),\n",
    "    (min_lon, min_lat)\n",
    "]\n",
    "bbox = shapely.geometry.Polygon([shapely.geometry.Point(lon, lat) for lon, lat in bbox])\n",
    "\n",
    "bbox = gpd.GeoDataFrame({'type':['bbox'], 'geometry': [bbox]})\n",
    "bbox = bbox.set_crs('EPSG:4326')\n",
    "\n",
    "centroid_lon, centroid_lat = list(bbox.geometry.iloc[0].centroid.coords)[0]\n",
    "bbox = bbox.to_crs(get_utm_code(centroid_lon, centroid_lat))\n",
    "\n",
    "bbox['geometry'] = bbox['geometry'].apply(lambda t: t.buffer(1000.0))\n",
    "\n",
    "bbox = bbox.to_crs('EPSG:4326')\n",
    "bbox['geometry'] = bbox['geometry'].apply(lambda t: t.envelope)\n"
   ]
  },
  {
   "cell_type": "code",
   "execution_count": null,
   "id": "7507c738",
   "metadata": {},
   "outputs": [],
   "source": [
    "min_lat = min([lat for lon, lat in bbox.geometry.iloc[0].convex_hull.exterior.coords])\n",
    "max_lat = max([lat for lon, lat in bbox.geometry.iloc[0].convex_hull.exterior.coords])\n",
    "min_lon = min([lon for lon, lat in bbox.geometry.iloc[0].convex_hull.exterior.coords])\n",
    "max_lon = max([lon for lon, lat in bbox.geometry.iloc[0].convex_hull.exterior.coords])\n",
    "\n",
    "print(min_lat, max_lat, min_lon, max_lon)"
   ]
  },
  {
   "cell_type": "code",
   "execution_count": null,
   "id": "425a2301",
   "metadata": {},
   "outputs": [],
   "source": [
    "bbox_constraint = f'({min_lat},{min_lon},{max_lat},{max_lon})'"
   ]
  },
  {
   "cell_type": "markdown",
   "id": "a4e6e7a5",
   "metadata": {},
   "source": [
    "### запросим все магазины [по тэгу shop](https://wiki.openstreetmap.org/wiki/Key:shop)"
   ]
  },
  {
   "cell_type": "code",
   "execution_count": null,
   "id": "a2b776c6",
   "metadata": {},
   "outputs": [],
   "source": [
    "url = \"https://maps.mail.ru/osm/tools/overpass/api/interpreter\"\n",
    "\n",
    "query = \"\"\"\n",
    "[out:json][timeout:300];\n",
    "(\n",
    "node[shop~\".*\"]{bbox_constraint};\n",
    ");\n",
    "out;\n",
    "\"\"\".format(bbox_constraint = bbox_constraint)\n",
    "\n",
    "response = requests.get(url, params={'data': query})\n",
    "data = response.json()\n",
    "\n",
    "print(len(data['elements']))\n"
   ]
  },
  {
   "cell_type": "code",
   "execution_count": null,
   "id": "7292b68e",
   "metadata": {},
   "outputs": [],
   "source": [
    "shops = pd.DataFrame(\n",
    "    [\n",
    "        (\n",
    "            int(elem.get('id')),\n",
    "            elem.get('tags').get('shop'),\n",
    "            elem.get('tags').get('name'),\n",
    "            elem.get('tags').get('brand'),\n",
    "            float(elem.get('lat')),\n",
    "            float(elem.get('lon')),\n",
    "        )\n",
    "        for elem in data['elements']\n",
    "    ],\n",
    "    columns = ['id', 'shop', 'name', 'brand', 'lat', 'lon']\n",
    ")\n",
    "\n",
    "shops.head()"
   ]
  },
  {
   "cell_type": "markdown",
   "id": "c6fb36b0",
   "metadata": {},
   "source": [
    "### по типу магазинов"
   ]
  },
  {
   "cell_type": "code",
   "execution_count": null,
   "id": "43fa3949",
   "metadata": {},
   "outputs": [],
   "source": [
    "shops.groupby('shop', dropna=False).size().reset_index().\\\n",
    "rename({0:'count'}, axis=1).sort_values('count', ascending=False)"
   ]
  },
  {
   "cell_type": "markdown",
   "id": "6653453a",
   "metadata": {},
   "source": [
    "### запросим все poi [по тэгу amenity](https://wiki.openstreetmap.org/wiki/Key:amenity)"
   ]
  },
  {
   "cell_type": "code",
   "execution_count": null,
   "id": "274f1174",
   "metadata": {},
   "outputs": [],
   "source": [
    "url = \"https://maps.mail.ru/osm/tools/overpass/api/interpreter\"\n",
    "\n",
    "query2 = \"\"\"\n",
    "[out:json][timeout:300];\n",
    "(\n",
    "node[amenity~\".*\"]{bbox_constraint};\n",
    ");\n",
    "out;\n",
    "\"\"\".format(bbox_constraint = bbox_constraint)\n",
    "\n",
    "response2 = requests.get(url, params={'data': query2})\n",
    "data2 = response2.json()\n",
    "\n",
    "print(len(data2['elements']))\n"
   ]
  },
  {
   "cell_type": "code",
   "execution_count": null,
   "id": "5da07d7a",
   "metadata": {},
   "outputs": [],
   "source": [
    "amenities = pd.DataFrame(\n",
    "    [\n",
    "        (\n",
    "            int(elem.get('id')),\n",
    "            elem.get('tags').get('amenity'),\n",
    "            elem.get('tags').get('name'),\n",
    "            elem.get('tags').get('brand'),\n",
    "            float(elem.get('lat')),\n",
    "            float(elem.get('lon')),\n",
    "        )\n",
    "        for elem in data2['elements']\n",
    "    ],\n",
    "    columns = ['id', 'amenity', 'name', 'brand', 'lat', 'lon']\n",
    ")\n",
    "\n",
    "amenities.head()"
   ]
  },
  {
   "cell_type": "markdown",
   "id": "02c3ec7d",
   "metadata": {},
   "source": [
    "### по типу poi"
   ]
  },
  {
   "cell_type": "code",
   "execution_count": null,
   "id": "1da8f0d9",
   "metadata": {},
   "outputs": [],
   "source": [
    "amenities.groupby('amenity', dropna=False).size().reset_index().\\\n",
    "rename({0:'count'}, axis=1).sort_values('count', ascending=False)"
   ]
  },
  {
   "cell_type": "markdown",
   "id": "69ca2401",
   "metadata": {},
   "source": [
    "### добавим фичей - посчитаем количество объектов вокруг"
   ]
  },
  {
   "cell_type": "code",
   "execution_count": null,
   "id": "27a6dc1c",
   "metadata": {},
   "outputs": [],
   "source": [
    "RES = 8\n",
    "\n",
    "shop_categories = [\n",
    "    'convenience', 'supermarket', 'beauty', 'clothes', 'hairdresser', 'alcohol', 'outpost'\n",
    "]\n",
    "\n",
    "amenity_categories = [\n",
    "    'pharmacy', 'cafe', 'fast_food', 'atm', 'restaurant', 'bank'\n",
    "]\n"
   ]
  },
  {
   "cell_type": "markdown",
   "id": "62c56a2b",
   "metadata": {},
   "source": [
    "### соберем все в словарь по индексу для быстрого поиска"
   ]
  },
  {
   "cell_type": "code",
   "execution_count": null,
   "id": "549a33f4",
   "metadata": {},
   "outputs": [],
   "source": [
    "index_dict = {}\n",
    "\n",
    "for category in shop_categories:\n",
    "    for lat, lon in shops[shops.shop==category][['lat', 'lon']].values:\n",
    "        h3_index = h3.geo_to_h3(lat, lon, RES)\n",
    "        objects = index_dict.get(h3_index, {})\n",
    "        objects[category] = objects.get(category, []) + [(lat, lon)]\n",
    "        index_dict[h3_index] = objects\n",
    "        \n",
    "for category in amenity_categories:\n",
    "    for lat, lon in amenities[amenities.amenity==category][['lat', 'lon']].values:\n",
    "        h3_index = h3.geo_to_h3(lat, lon, RES)\n",
    "        objects = index_dict.get(h3_index, {})\n",
    "        objects[category] = objects.get(category, []) + [(lat, lon)]\n",
    "        index_dict[h3_index] = objects"
   ]
  },
  {
   "cell_type": "markdown",
   "id": "1b3f193c",
   "metadata": {},
   "source": [
    "### достаем объекты по индексу точки и соседним индексам, фильтруем по расстоянию"
   ]
  },
  {
   "cell_type": "code",
   "execution_count": null,
   "id": "e58fe719",
   "metadata": {},
   "outputs": [],
   "source": [
    "def get_num_objects(\n",
    "    lat:float,\n",
    "    lon:float,\n",
    "    category:str,\n",
    "    max_dist:float,\n",
    "    index_dict:dict = index_dict,\n",
    "    RES:int = RES\n",
    "):\n",
    "    edge_length = h3.edge_length(RES)*1000\n",
    "    num_rings = math.ceil(max_dist/(2*edge_length))\n",
    "\n",
    "    all_objects_cnt = sum([\n",
    "        1\n",
    "        for hex_id in h3.k_ring(h3.geo_to_h3(lat, lon, RES), num_rings)\n",
    "        for obj_lat, obj_lon in index_dict.get(hex_id, {}).get(category, [])\n",
    "        if distance.great_circle((lat, lon), (obj_lat, obj_lon)).m <= max_dist\n",
    "    ])\n",
    "\n",
    "    return all_objects_cnt\n",
    "\n"
   ]
  },
  {
   "cell_type": "markdown",
   "id": "e6706519",
   "metadata": {},
   "source": [
    "### добавим колонки в оба датафрейма"
   ]
  },
  {
   "cell_type": "code",
   "execution_count": null,
   "id": "8cc49250",
   "metadata": {},
   "outputs": [],
   "source": [
    "for category in shop_categories + amenity_categories:\n",
    "\n",
    "    get_num_objects_lambda = lambda row: get_num_objects(row[0], row[1], category, 500.0)\n",
    "\n",
    "    realty_train[category] = np.apply_along_axis(\n",
    "        get_num_objects_lambda, 1, realty_train[['lat', 'lon']].values\n",
    "    )\n",
    "    realty_val[category] = np.apply_along_axis(\n",
    "        get_num_objects_lambda, 1, realty_val[['lat', 'lon']].values\n",
    "    )\n",
    "\n"
   ]
  },
  {
   "cell_type": "markdown",
   "id": "260f1353",
   "metadata": {},
   "source": [
    "### зафитим модель "
   ]
  },
  {
   "cell_type": "code",
   "execution_count": null,
   "id": "0ef125ac",
   "metadata": {},
   "outputs": [],
   "source": [
    "train_num_cols = ['total_square'] + shop_categories + amenity_categories:\n",
    "train_cat_cols = {\n",
    "    'city': 'N/A',\n",
    "    'settlement': 'N/A',\n",
    "    'district': 'N/A',\n",
    "    'postcode': 0.0\n",
    "}"
   ]
  },
  {
   "cell_type": "code",
   "execution_count": null,
   "id": "e51b2188",
   "metadata": {},
   "outputs": [],
   "source": [
    "catboost_df = realty_train[list(train_cat_cols.keys()) + train_num_cols].copy()\n",
    "catboost_eval_df = realty_val[list(train_cat_cols.keys()) + train_num_cols].copy()\n",
    "\n",
    "#заполним пропущенные значения\n",
    "for feature, value in train_cat_cols.items():\n",
    "    catboost_df[feature] = catboost_df[feature].fillna(value)\n",
    "    catboost_eval_df[feature] = catboost_eval_df[feature].fillna(value)\n",
    "    if catboost_df[feature].dtypes != 'O':\n",
    "        catboost_df[feature] = catboost_df[feature].astype('int')\n",
    "        catboost_eval_df[feature] = catboost_eval_df[feature].astype('int')\n"
   ]
  },
  {
   "cell_type": "code",
   "execution_count": null,
   "id": "fda83b30",
   "metadata": {},
   "outputs": [],
   "source": [
    "train_index, test_index, _, _ = train_test_split(\n",
    "    catboost_df.index,\n",
    "    catboost_df[[]],\n",
    "    test_size=0.2\n",
    ")\n"
   ]
  },
  {
   "cell_type": "code",
   "execution_count": null,
   "id": "2d82ceb4",
   "metadata": {},
   "outputs": [],
   "source": [
    "pool_train = Pool(\n",
    "    catboost_df.loc[train_index],\n",
    "    realty_train.price.loc[train_index],\n",
    "    cat_features = list(train_cat_cols.keys())\n",
    ")\n",
    "pool_test = Pool(\n",
    "    catboost_df.loc[test_index],\n",
    "    realty_train.price.loc[test_index],\n",
    "    cat_features = list(train_cat_cols.keys())\n",
    ")\n",
    "\n",
    "pool_val = Pool(\n",
    "    catboost_eval_df,\n",
    "    realty_val,\n",
    "    cat_features = list(train_cat_cols.keys())\n",
    ")\n"
   ]
  },
  {
   "cell_type": "code",
   "execution_count": null,
   "id": "72ecd0d3",
   "metadata": {},
   "outputs": [],
   "source": [
    "model = CatBoostRegressor(\n",
    "    depth=4,\n",
    "    iterations=5000,\n",
    "    learning_rate=0.2,\n",
    "    loss_function='MAE',\n",
    "    verbose=250,\n",
    "    od_type='IncToDec',\n",
    "    od_pval=0.1\n",
    ")\n",
    "model.fit(pool_train, eval_set=pool_test)"
   ]
  },
  {
   "cell_type": "code",
   "execution_count": null,
   "id": "0d1d58d1",
   "metadata": {},
   "outputs": [],
   "source": [
    "y_pred3 = model.predict(pool_val)"
   ]
  },
  {
   "cell_type": "code",
   "execution_count": null,
   "id": "48b40b84",
   "metadata": {},
   "outputs": [],
   "source": [
    "print('MAE is: {value:,}'.format(value=round(mean_absolute_error(y_val, y_pred3))))\n",
    "print('MAPE is : {value:.2f}%'.format(value=100.0*mean_absolute_percentage_error(y_val, y_pred3)))\n"
   ]
  },
  {
   "cell_type": "code",
   "execution_count": null,
   "id": "06ab4b3f",
   "metadata": {},
   "outputs": [],
   "source": [
    "train_num_cols2 = ['total_square'] + ['rooms', 'floor'] + shop_categories + amenity_categories\n",
    "train_cat_cols2 = {\n",
    "    'city': 'N/A',\n",
    "    'settlement': 'N/A',\n",
    "    'district': 'N/A',\n",
    "    'postcode': 0.0\n",
    "}\n"
   ]
  },
  {
   "cell_type": "code",
   "execution_count": null,
   "id": "8fbfb591",
   "metadata": {},
   "outputs": [],
   "source": [
    "catboost_df2 = realty_train[list(train_cat_cols2.keys()) + train_num_cols2].copy()\n",
    "catboost_eval_df2 = realty_val[list(train_cat_cols2.keys()) + train_num_cols2].copy()\n",
    "\n",
    "#заполним пропущенные значения\n",
    "for feature, value in train_cat_cols2.items():\n",
    "    catboost_df2[feature] = catboost_df2[feature].fillna(value)\n",
    "    catboost_eval_df2[feature] = catboost_eval_df2[feature].fillna(value)\n",
    "    if catboost_df2[feature].dtypes != 'O':\n",
    "        catboost_df2[feature] = catboost_df2[feature].astype('int')\n",
    "        catboost_eval_df2[feature] = catboost_eval_df2[feature].astype('int')\n"
   ]
  },
  {
   "cell_type": "code",
   "execution_count": null,
   "id": "0a88cc59",
   "metadata": {},
   "outputs": [],
   "source": [
    "train_index2, test_index2, _, _ = train_test_split(\n",
    "    catboost_df2.index,\n",
    "    catboost_df2[[]],\n",
    "    test_size=0.2\n",
    ")\n"
   ]
  },
  {
   "cell_type": "code",
   "execution_count": null,
   "id": "848c86e9",
   "metadata": {},
   "outputs": [],
   "source": [
    "pool_train2 = Pool(\n",
    "    catboost_df2.loc[train_index],\n",
    "    realty_train.price.loc[train_index],\n",
    "    cat_features = list(train_cat_cols.keys())\n",
    ")\n",
    "pool_test2 = Pool(\n",
    "    catboost_df2.loc[test_index],\n",
    "    realty_train.price.loc[test_index],\n",
    "    cat_features = list(train_cat_cols.keys())\n",
    ")\n",
    "\n",
    "pool_val2 = Pool(\n",
    "    catboost_eval_df2,\n",
    "    realty_val,\n",
    "    cat_features = list(train_cat_cols.keys())\n",
    ")\n"
   ]
  },
  {
   "cell_type": "code",
   "execution_count": null,
   "id": "8d6870a3",
   "metadata": {},
   "outputs": [],
   "source": [
    "model2 = CatBoostRegressor(\n",
    "    depth=4,\n",
    "    iterations=5000,\n",
    "    learning_rate=0.2,\n",
    "    loss_function='MAE',\n",
    "    verbose=250,\n",
    "    od_type='IncToDec',\n",
    "    od_pval=0.1\n",
    ")\n",
    "model2.fit(pool_train2, eval_set=pool_test2)"
   ]
  },
  {
   "cell_type": "code",
   "execution_count": null,
   "id": "2f72b1a8",
   "metadata": {},
   "outputs": [],
   "source": [
    "y_pred4 = model2.predict(pool_val2)\n"
   ]
  },
  {
   "cell_type": "code",
   "execution_count": null,
   "id": "483d8ddf",
   "metadata": {},
   "outputs": [],
   "source": [
    "print('MAE is: {value:,}'.format(value=round(mean_absolute_error(y_val, y_pred4))))\n",
    "print('MAPE is : {value:.2f}%'.format(value=100.0*mean_absolute_percentage_error(y_val, y_pred4)))\n"
   ]
  },
  {
   "cell_type": "code",
   "execution_count": null,
   "id": "8782bd51",
   "metadata": {},
   "outputs": [],
   "source": [
    "plt.figure(figsize=(16,9))\n",
    "plt.barh(\n",
    "    model2.feature_names_,\n",
    "    model2.feature_importances_\n",
    ")\n",
    "plt.title('feature importances')\n",
    "plt.xlabel('feature importance')\n",
    "plt.ylabel('feature name')\n",
    "plt.show()\n"
   ]
  },
  {
   "cell_type": "code",
   "execution_count": null,
   "id": "de752e21",
   "metadata": {},
   "outputs": [],
   "source": []
  },
  {
   "cell_type": "code",
   "execution_count": null,
   "id": "659eb1f5",
   "metadata": {},
   "outputs": [],
   "source": []
  }
 ],
 "metadata": {
  "kernelspec": {
   "display_name": "Python 3 (ipykernel)",
   "language": "python",
   "name": "python3"
  },
  "language_info": {
   "codemirror_mode": {
    "name": "ipython",
    "version": 3
   },
   "file_extension": ".py",
   "mimetype": "text/x-python",
   "name": "python",
   "nbconvert_exporter": "python",
   "pygments_lexer": "ipython3",
   "version": "3.9.7"
  }
 },
 "nbformat": 4,
 "nbformat_minor": 5
}
