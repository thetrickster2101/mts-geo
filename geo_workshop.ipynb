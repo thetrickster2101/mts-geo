{
 "cells": [
  {
   "cell_type": "code",
   "execution_count": null,
   "id": "3ddd2e3c",
   "metadata": {},
   "outputs": [],
   "source": [
    "import pandas as pd\n",
    "import numpy as np\n",
    "import json\n",
    "import os\n",
    "pd.set_option('display.max_columns', 256)\n",
    "pd.set_option('display.max_rows', 512)\n",
    "import overpy\n",
    "from geopy import distance\n",
    "from pyproj import Transformer\n",
    "import h3\n",
    "import math\n",
    "from sklearn.metrics import pairwise\n",
    "import requests\n",
    "import shapely\n",
    "import geopandas as gpd\n",
    "import regex\n",
    "from keplergl import KeplerGl\n"
   ]
  },
  {
   "cell_type": "markdown",
   "id": "5943c9ab",
   "metadata": {},
   "source": [
    "## Часть I. О вычислениях расстояний"
   ]
  },
  {
   "cell_type": "markdown",
   "id": "99d89453",
   "metadata": {},
   "source": [
    "### Как правило географические координаты представлены в градусах как единицах измерения.\n",
    "\n",
    "### При этом важно понимать, к какой CRS (системе координат) относятся данные кооординаты.\n",
    "\n",
    "### Системы координат могут быть глобальными (покрывать всю поверхность планеты) либо локальными (покрывать ее определенную часть)\n",
    "\n",
    "### Чаще всего этой системой координнат является [WGS-84](https://epsg.io/4326) (глобальная система координат в градусах) - используется в подавляющем количестве картографических сервисов, GPS-приборов и проч.\n"
   ]
  },
  {
   "cell_type": "code",
   "execution_count": null,
   "id": "63740ecb",
   "metadata": {},
   "outputs": [],
   "source": [
    "# пример - нулевой километр\n",
    "zero_km = (55.755797, 37.617729)\n",
    "\n",
    "# пример - аэропорт Шереметьево\n",
    "sherem = (55.981359, 37.413861)"
   ]
  },
  {
   "cell_type": "markdown",
   "id": "ea3f2ee6",
   "metadata": {},
   "source": [
    "### Считать расстояние между координатами напрямую как правило нельзя - если на входе градусы, расстояние также будет в градусах.\n",
    "    \n",
    "### Домножить на \"среднюю\" длину 1 градуса может давать серьезные искажения (чем больше расстояние - тем выше искажения)\n",
    "\n",
    "### WGS-84 имеет в основе определенную модель эллипсоида - сферы, \"сплюснутой\" вдоль одной из осей (полярный радиус чуть меньше экваториального).\n",
    "\n",
    "### Разные модели геоидов отличаются разным отношением полярного и экваториального радиусов - параметр flattening (сплюснутость)\n",
    "\n",
    "![ellipsoids](pics/ellipsoids.png)\n"
   ]
  },
  {
   "cell_type": "markdown",
   "id": "6ddd48e1",
   "metadata": {},
   "source": [
    "### Для вычисления расстояний на эллипсоиде проще всего использовать библиотеку geopy\n"
   ]
  },
  {
   "cell_type": "code",
   "execution_count": null,
   "id": "ad1b9a24",
   "metadata": {},
   "outputs": [],
   "source": [
    "meters_wgs84 = distance.geodesic(zero_km, sherem, ellipsoid='WGS-84').m\n",
    "print(f'WGS-84 distance (meters): {meters_wgs84:.2f}')"
   ]
  },
  {
   "cell_type": "markdown",
   "id": "acf9ee1b",
   "metadata": {},
   "source": [
    "### Однако куда проще \"округлить\" эллипсоид до сферы и считать расстояние по сфере [great-circle disatnce](https://en.wikipedia.org/wiki/Great-circle_distance)\n"
   ]
  },
  {
   "cell_type": "code",
   "execution_count": null,
   "id": "d0f3473a",
   "metadata": {},
   "outputs": [],
   "source": [
    "meters_great_circle = distance.great_circle(zero_km, sherem).m\n",
    "print(f'great-circle distance (meters): {meters_great_circle:.2f}')"
   ]
  },
  {
   "cell_type": "markdown",
   "id": "10931aa9",
   "metadata": {},
   "source": [
    "### Что быстрее?"
   ]
  },
  {
   "cell_type": "code",
   "execution_count": null,
   "id": "987df14a",
   "metadata": {},
   "outputs": [],
   "source": [
    "%%timeit\n",
    "distance.geodesic(zero_km, sherem).m"
   ]
  },
  {
   "cell_type": "code",
   "execution_count": null,
   "id": "8f2bb461",
   "metadata": {},
   "outputs": [],
   "source": [
    "%%timeit\n",
    "distance.great_circle(zero_km, sherem).m"
   ]
  },
  {
   "cell_type": "markdown",
   "id": "12ac8fa3",
   "metadata": {},
   "source": [
    "### Что если посчитать расстояние в градусах, а потом перевести в метры исходя из длины экватора/меридиана?"
   ]
  },
  {
   "cell_type": "code",
   "execution_count": null,
   "id": "e38007eb",
   "metadata": {},
   "outputs": [],
   "source": [
    "# длина меридиана в км\n",
    "meridian_length_km = 20003.93\n",
    "\n",
    "# длина экватора в км\n",
    "equator_length_km = 40075\n",
    "\n",
    "# евклидово расстояние в градусах:\n",
    "euclidean = pairwise.euclidean_distances(\n",
    "    np.asarray([zero_km]),\n",
    "    np.asarray([sherem])\n",
    ")[0][0]\n",
    "\n",
    "# делим на 180 (широта от -90 до 90)\n",
    "print(f'equclidian distance (meters) by meridian: {euclidean*meridian_length_km*1000/180.0:.2f}')\n",
    "\n",
    "# делим на 360 (долгота от -180 до 180)\n",
    "print(f'equclidian distance (meters) by equator: {euclidean*equator_length_km*1000/360.0:.2f}')\n"
   ]
  },
  {
   "cell_type": "markdown",
   "id": "17e69def",
   "metadata": {},
   "source": [
    "### P. S. эллипсоиды, которые используются в некоторых глобальных системах координат рассчитаны на то, чтобы более-менее точно описывать форму поверхности планеты везде\n",
    "\n",
    "### Для самых точных геодезических вычислений подобраны \"локальные\" эллипоиды, наиболее точно описывающие конкретный участок поверхности\n"
   ]
  },
  {
   "cell_type": "markdown",
   "id": "d3d52c33",
   "metadata": {},
   "source": [
    "![local_ellipsoid](pics/image17.png)"
   ]
  },
  {
   "cell_type": "markdown",
   "id": "ddd60049",
   "metadata": {},
   "source": [
    "### Важно!\n",
    "\n",
    "### В sclearn есть встроенная метрика расстояния на сфере - haversine (тот самый great-circle disntace)\n",
    "\n",
    "### В некоторых задачах (например, density-based кластеризации) полезно использовать ее\n",
    "\n",
    "### В общем случае проще сконвертировать градусы в радианы, а параметр расстояния указывать не в метрах, а нормировать на длину радиуса\n",
    "\n"
   ]
  },
  {
   "cell_type": "code",
   "execution_count": null,
   "id": "68931a8d",
   "metadata": {},
   "outputs": [],
   "source": [
    "# Чтобы посчитать haversine расстояние в метрических единицах, нужно:\n",
    "\n",
    "#1. Перевести координаты из градусов в радианы\n",
    "\n",
    "zero_km_rad = tuple(math.radians(val) for val in zero_km)\n",
    "sherem_rad = tuple(math.radians(val) for val in sherem)\n",
    "\n",
    "#2. Полученное (безразмерное) расстояние умножить на радиус сферы - средний радиус Земли\n",
    "\n",
    "haversine = pairwise.haversine_distances(\n",
    "    np.asarray([zero_km_rad]),\n",
    "    np.asarray([sherem_rad])\n",
    ")[0][0]\n",
    "\n",
    "print(f'haversine distance: {haversine:.6f}')\n",
    "\n",
    "#средний радиус Земли в км\n",
    "R = 6371\n",
    "\n",
    "print(f'haversine distance (meters): {haversine*R*1000:.2f}')\n"
   ]
  },
  {
   "cell_type": "markdown",
   "id": "576b6ffa",
   "metadata": {},
   "source": [
    "## Что делать если не точки, а геометрии (множества точек) - полигоны, линии и проч.?"
   ]
  },
  {
   "cell_type": "markdown",
   "id": "9520e67d",
   "metadata": {},
   "source": [
    "### Зачастую не нужно считать расстояния между слишком удаленными геометриями.\n",
    "\n",
    "### В этом случае есть удобные локальные системы координат - [UTM](https://en.wikipedia.org/wiki/Universal_Transverse_Mercator_coordinate_system)\n",
    "\n",
    "### Набор UTM проекций разбивает поверхность Земли на отдельные зоны - от экватора до 84 параллели (на север и юг) и шириной по 6 градусов долготы \n",
    "\n",
    "### В таких системах координат расстояния можно считать в метрах (так как сами координаты тоже в метрах)\n",
    "\n",
    "### Для полюсов существуют отдельные [UPS](https://en.wikipedia.org/wiki/Universal_polar_stereographic_coordinate_system) проеции\n",
    "\n",
    "### Для каждой такой зоны есть отдельная проекция на плоскость с метрическими координатами. При проекции искажения не превышают 0.1% в пределах такой зоны\n",
    "\n",
    "### Код зоны можно вычислить по координатам точки\n",
    "\n",
    "\n",
    "### Существует также и глобальная система координат в метрах - https://epsg.io/3857, но она сильно искажает расстояния\n",
    "\n"
   ]
  },
  {
   "cell_type": "markdown",
   "id": "a781f474",
   "metadata": {},
   "source": [
    "![UTM](pics/image20.png)"
   ]
  },
  {
   "cell_type": "code",
   "execution_count": null,
   "id": "f6338b49",
   "metadata": {},
   "outputs": [],
   "source": [
    "# Пример \n",
    "def get_utm_code(lat: float, lon:float):\n",
    "    utm_band = int((lon+180) / 6) % 60 + 1\n",
    "    utm_band = f'0{utm_band}'[-2:]\n",
    "    utm  = ('EPSG:326' if lat > 0 else 'EPSG:327') + utm_band\n",
    "    return utm\n",
    "\n",
    "print(f'https://epsg.io/{get_utm_code(zero_km[0], zero_km[1])[5:]}')"
   ]
  },
  {
   "cell_type": "code",
   "execution_count": null,
   "id": "733f8cac",
   "metadata": {},
   "outputs": [],
   "source": [
    "#исходная проеция - WGS-84\n",
    "source_crs = 'EPSG:4326'\n",
    "#целевая проекция - UTM зона\n",
    "target_crs = get_utm_code(zero_km[0], zero_km[1])\n",
    "transformer = Transformer.from_crs(source_crs, target_crs)\n",
    "\n",
    "#перевод координат в UTM\n",
    "zero_km_utm = transformer.transform(zero_km[0], zero_km[1])\n",
    "print(f'wgs-84 coords for zero_km: {zero_km}')\n",
    "print(f'utm coords for zero_km: {zero_km_utm}\\n')\n",
    "sherem_utm = transformer.transform(sherem[0], sherem[1])\n",
    "print(f'wgs-84 coords for sherem: {sherem}')\n",
    "print(f'utm coords for sherem: {sherem_utm}\\n')\n",
    "\n",
    "# евклидово расстояние в проекции:\n",
    "euclidean_utm = pairwise.euclidean_distances(\n",
    "    np.asarray([zero_km_utm]),\n",
    "    np.asarray([sherem_utm])\n",
    ")[0][0]\n",
    "\n",
    "print(f'euclidian distance in UTM projection (meters): {euclidean_utm:.2f}')\n"
   ]
  },
  {
   "cell_type": "markdown",
   "id": "ad7d1202",
   "metadata": {},
   "source": [
    "### Для работы с геометриями есть удобная библиотеки - shapely и geopandas\n"
   ]
  },
  {
   "cell_type": "markdown",
   "id": "52441f43",
   "metadata": {},
   "source": [
    "[Москва](https://www.openstreetmap.org/relation/2555133)"
   ]
  },
  {
   "cell_type": "code",
   "execution_count": null,
   "id": "f3a95c90",
   "metadata": {},
   "outputs": [],
   "source": [
    "moscow = requests.get('https://polygons.openstreetmap.fr/get_wkt.py?id=2555133&params=0').text\n",
    "print(moscow)\n",
    "moscow = shapely.wkt.loads(moscow[10:])"
   ]
  },
  {
   "cell_type": "code",
   "execution_count": null,
   "id": "3a35f152",
   "metadata": {},
   "outputs": [],
   "source": [
    "moscow"
   ]
  },
  {
   "cell_type": "code",
   "execution_count": null,
   "id": "237af6a7",
   "metadata": {},
   "outputs": [],
   "source": [
    "# площадь Москвы ( в квадратных градусах:) )\n",
    "print(f'area (wrong!): {moscow.area}')"
   ]
  },
  {
   "cell_type": "code",
   "execution_count": null,
   "id": "bdfb091a",
   "metadata": {},
   "outputs": [],
   "source": [
    "print(str(type(moscow)))\n",
    "print('\\n')\n",
    "print(str(moscow)[:500])"
   ]
  },
  {
   "cell_type": "markdown",
   "id": "a361a624",
   "metadata": {},
   "source": [
    "[Коломна](https://www.openstreetmap.org/relation/1703080#map=7/54.617/39.902)"
   ]
  },
  {
   "cell_type": "code",
   "execution_count": null,
   "id": "19e48cc5",
   "metadata": {},
   "outputs": [],
   "source": [
    "kolomna = requests.get('https://polygons.openstreetmap.fr/get_wkt.py?id=1703080&params=0').text\n",
    "kolomna = shapely.wkt.loads(kolomna[10:])"
   ]
  },
  {
   "cell_type": "code",
   "execution_count": null,
   "id": "8a8ea9e6",
   "metadata": {},
   "outputs": [],
   "source": [
    "kolomna"
   ]
  },
  {
   "cell_type": "markdown",
   "id": "e42dda00",
   "metadata": {},
   "source": [
    "[Подольск](https://www.openstreetmap.org/relation/1697322#map=7/54.617/39.902)"
   ]
  },
  {
   "cell_type": "code",
   "execution_count": null,
   "id": "3610f93a",
   "metadata": {},
   "outputs": [],
   "source": [
    "podolsk = requests.get('https://polygons.openstreetmap.fr/get_wkt.py?id=1697322&params=0').text\n",
    "podolsk = shapely.wkt.loads(podolsk[10:])"
   ]
  },
  {
   "cell_type": "code",
   "execution_count": null,
   "id": "ac64820d",
   "metadata": {},
   "outputs": [],
   "source": [
    "# соберем датафрейм\n",
    "df = pd.DataFrame({\n",
    "    'city': ['moscow', 'kolomna', 'podolsk'],\n",
    "    'wkt': [str(city) for city in [moscow, kolomna, podolsk]]\n",
    "})\n",
    "df.head()"
   ]
  },
  {
   "cell_type": "code",
   "execution_count": null,
   "id": "c135350f",
   "metadata": {},
   "outputs": [],
   "source": [
    "# конвертнем в геопандас\n",
    "df['wkt'] = gpd.GeoSeries.from_wkt(df['wkt'])\n",
    "gdf = gpd.GeoDataFrame(df, geometry='wkt')\n"
   ]
  },
  {
   "cell_type": "code",
   "execution_count": null,
   "id": "dfd9d73c",
   "metadata": {},
   "outputs": [],
   "source": [
    "gdf.head()"
   ]
  },
  {
   "cell_type": "code",
   "execution_count": null,
   "id": "7c7ee439",
   "metadata": {},
   "outputs": [],
   "source": [
    "gdf.iloc[0].wkt"
   ]
  },
  {
   "cell_type": "code",
   "execution_count": null,
   "id": "0db4b969",
   "metadata": {},
   "outputs": [],
   "source": [
    "# в геопандас можно задать CRS (систему координат) и перевести в другую CRS в случае необходимости\n",
    "print(gdf.crs)\n",
    "\n",
    "gdf = gdf.set_crs('EPSG:4326')\n",
    "print(gdf.crs)\n"
   ]
  },
  {
   "cell_type": "code",
   "execution_count": null,
   "id": "d922aa4b",
   "metadata": {},
   "outputs": [],
   "source": [
    "# найдем центр Москвы и конвертнем в его CRS\n",
    "moscow_center = list(moscow.centroid.coords)[0]\n",
    "moscow_center_crs = get_utm_code(moscow_center[0], moscow_center[1])\n",
    "print(moscow_center_crs)\n",
    "gdf = gdf.to_crs(moscow_center_crs)\n",
    "print(gdf.crs)\n"
   ]
  },
  {
   "cell_type": "code",
   "execution_count": null,
   "id": "77532458",
   "metadata": {},
   "outputs": [],
   "source": [
    "gdf.iloc[0].wkt"
   ]
  },
  {
   "cell_type": "code",
   "execution_count": null,
   "id": "f170bfd9",
   "metadata": {},
   "outputs": [],
   "source": [
    "# Теперь посчитаем площадь\n",
    "gdf['area'] = gdf.wkt.apply(lambda t: t.area/1000**2)\n",
    "gdf.head()"
   ]
  },
  {
   "cell_type": "code",
   "execution_count": null,
   "id": "23c297b1",
   "metadata": {},
   "outputs": [],
   "source": [
    "# Расстояние от Москвы до Коломны \n",
    "dist = gdf[gdf.city=='moscow'].wkt.iloc[0].distance(\n",
    "    gdf[gdf.city=='kolomna'].wkt.iloc[0]\n",
    ")\n",
    "print(f'distance from Moscow to Kolomna (km): {dist/1000:.2f}')\n"
   ]
  },
  {
   "cell_type": "markdown",
   "id": "f871b1fa",
   "metadata": {},
   "source": [
    "### Для более серьезных вычислений лучше использовать отдельные инструменты:\n",
    "\n",
    "### - [PostGIS](https://postgis.net/workshops/postgis-intro/)\n",
    "\n",
    "### - [Apache Sedona](https://sedona.apache.org)\n",
    "\n",
    "### - [GeoMesa](https://www.geomesa.org)"
   ]
  },
  {
   "cell_type": "markdown",
   "id": "9219bb9e",
   "metadata": {},
   "source": [
    "## Часть II. Получение данных"
   ]
  },
  {
   "cell_type": "markdown",
   "id": "6ffe74a4",
   "metadata": {},
   "source": [
    "### Самый простой источник в плане получения данных - OSM (OpenStreetMap)\n",
    "\n",
    "### Для получения большого объема данных из OSM по сути есть 2 базовых пути:\n",
    "\n",
    "### 1. Общедоступные API (отнсительно просто запустить, но могут быть сложности в получении действительно большого объема данных)\n",
    "\n",
    "### пример - OverPass ([wiki](https://wiki.openstreetmap.org/wiki/Overpass_API), [examples](https://wiki.openstreetmap.org/wiki/Overpass_API/Overpass_API_by_Example))\n",
    "\n",
    "### 2. Поднять свой PostGIS сервер и загрузить данные из дампа OSM данных:\n",
    "\n",
    "### есть куча туториалов ([пример](https://www.linuxbabe.com/linux-server/openstreetmap-tile-server-ubuntu-16-04))\n",
    "\n",
    "### и сервисов где можно скачать дамп OSM как полный (~40 Gb) так и нарезанный отдельно по странам/регионам (примеры - [Россия](http://download.geofabrik.de/russia.html), [отдельные регионы РФ](http://osmosis.svimik.com/latest/))"
   ]
  },
  {
   "cell_type": "markdown",
   "id": "d45abf26",
   "metadata": {},
   "source": [
    "### Будем использовать overpy - python либу для Overpass API"
   ]
  },
  {
   "cell_type": "code",
   "execution_count": null,
   "id": "d917c602",
   "metadata": {},
   "outputs": [],
   "source": [
    "API  = overpy.Overpass()"
   ]
  },
  {
   "cell_type": "markdown",
   "id": "91b91cae",
   "metadata": {},
   "source": [
    "### достанем список (крупных) городов [по тэгу place=city](https://wiki.openstreetmap.org/wiki/Tag:place%3Dcity)"
   ]
  },
  {
   "cell_type": "markdown",
   "id": "025c04e2",
   "metadata": {},
   "source": [
    "### опция 1: использовать API через либу overpy"
   ]
  },
  {
   "cell_type": "code",
   "execution_count": null,
   "id": "a31847c8",
   "metadata": {},
   "outputs": [],
   "source": [
    "# достанем nodes и их координаты\n",
    "\n",
    "result = API.query(\"\"\"\n",
    "area[name=\"Россия\"][admin_level=2]->.boundaryarea;\n",
    "(\n",
    "nwr(area.boundaryarea)[place=\"city\"];\n",
    ");\n",
    "out meta;\n",
    "\"\"\")"
   ]
  },
  {
   "cell_type": "code",
   "execution_count": null,
   "id": "a918dec0",
   "metadata": {
    "scrolled": true
   },
   "outputs": [],
   "source": [
    "cities_points = \\\n",
    "pd.DataFrame(\n",
    "    [\n",
    "        (\n",
    "            node.tags.get('name'),\n",
    "            int(node.tags.get('population')),\n",
    "            float(node.lat),\n",
    "            float(node.lon),\n",
    "        )\n",
    "        for node in result.nodes\n",
    "    ],\n",
    "    columns = ['name', 'population', 'lat', 'lon']\n",
    ").sort_values('population', ascending=False)\n",
    "\n",
    "cities_points.head(15)"
   ]
  },
  {
   "cell_type": "markdown",
   "id": "8667ec0a",
   "metadata": {},
   "source": [
    "### опиця 2 - использовать через requests"
   ]
  },
  {
   "cell_type": "code",
   "execution_count": null,
   "id": "528d0b67",
   "metadata": {},
   "outputs": [],
   "source": [
    "# достанем relations и их полигоны\n",
    "\n",
    "url = \"https://maps.mail.ru/osm/tools/overpass/api/interpreter\"\n",
    "\n",
    "query = \"\"\"[out:json];\n",
    "area[name=\"Россия\"][admin_level=2]->.boundaryarea;\n",
    "(\n",
    "relation(area.boundaryarea)['place' = 'city'];\n",
    ");\n",
    "convert item ::=::,::geom=geom(),_osm_type=type();\n",
    "out geom;\"\"\"\n",
    "\n",
    "response = requests.get(url, params={'data': query})\n",
    "data = response.json()\n"
   ]
  },
  {
   "cell_type": "code",
   "execution_count": null,
   "id": "69b5ff82",
   "metadata": {},
   "outputs": [],
   "source": [
    "json_data = [\n",
    "    {\n",
    "        'id': element['id'],\n",
    "        'name': element['tags'].get('name'),\n",
    "        'population': element['tags'].get('population'),\n",
    "        'geometry': shapely.geometry.MultiPolygon(\n",
    "            shapely.ops.polygonize(shapely.geometry.shape(element['geometry']))\n",
    "        ),\n",
    "    }\n",
    "    for element in data['elements']\n",
    "]\n",
    "\n",
    "cities_polygons = gpd.GeoDataFrame(json_data)\n",
    "\n",
    "cities_polygons['population'] = cities_polygons['population'].apply(\n",
    "    lambda t: int(t.replace(' ', '')) if t else None\n",
    ")\n",
    "\n",
    "cities_polygons.head(15)"
   ]
  },
  {
   "cell_type": "markdown",
   "id": "849f4f9c",
   "metadata": {},
   "source": [
    "### P. S.\n",
    "\n",
    "### Но есть и самые неочевидные источники, где можно достать данные\n",
    "\n",
    "### Иногда данные можно распарсить из страницы или API, к которому обращается страница\n",
    "\n",
    "### Для таких кейсов полезно смотреть на вкладку сетевой активности в браузере"
   ]
  },
  {
   "cell_type": "code",
   "execution_count": null,
   "id": "4fcd9b46",
   "metadata": {},
   "outputs": [],
   "source": [
    "# главная страница 2gis\n",
    "\n",
    "headers = {\n",
    "    'User-Agent': 'Mozilla/5.0 (Macintosh; Intel Mac OS X 10_15_7) AppleWebKit/605.1.15 (KHTML, like Gecko) Version/15.6 Safari/605.1.15'\n",
    "}\n",
    "response_2gis = requests.get('https://2gis.ru/', headers=headers)\n",
    "print(response_2gis.status_code)\n",
    "text_2gis = requests.get('https://2gis.ru/', headers=headers).text\n"
   ]
  },
  {
   "cell_type": "code",
   "execution_count": null,
   "id": "909ec8f3",
   "metadata": {},
   "outputs": [],
   "source": [
    "# найдем json с городами \n",
    "pattern = regex.compile(r'\\{(?:[^{}]|(?R))*\\}')\n",
    "all_jsons = pattern.findall(text_2gis)\n"
   ]
  },
  {
   "cell_type": "code",
   "execution_count": null,
   "id": "4b2039ab",
   "metadata": {},
   "outputs": [],
   "source": [
    "# найдем нужный json\n",
    "data_2gis = json.loads(\n",
    "    [\n",
    "        el for el in all_jsons if 'geometry' in el\n",
    "    ][0]\n",
    ")\n",
    "\n",
    "settlements = data_2gis.get('data').get('settlements').get('default').get('data')\n",
    "city = data_2gis['data']['entity']['profile']['4504222397630173']\n"
   ]
  },
  {
   "cell_type": "code",
   "execution_count": null,
   "id": "71886458",
   "metadata": {},
   "outputs": [],
   "source": [
    "#вот тут лежат все возможные города\n",
    "settlements"
   ]
  },
  {
   "cell_type": "code",
   "execution_count": null,
   "id": "6a68006d",
   "metadata": {},
   "outputs": [],
   "source": [
    "#вот Москва (есть ID и алиас)\n",
    "settlements['4504222397630173']"
   ]
  },
  {
   "cell_type": "code",
   "execution_count": null,
   "id": "c1e5f636",
   "metadata": {},
   "outputs": [],
   "source": [
    "#а тут есть данные по конкретному городу\n",
    "city"
   ]
  },
  {
   "cell_type": "markdown",
   "id": "f53fc343",
   "metadata": {},
   "source": [
    "#### теперь можно пробежаться по url-ам вида f'https://2gis.ru/{alias}' и собрать json-ы по каждому городу"
   ]
  },
  {
   "cell_type": "markdown",
   "id": "d67b022b",
   "metadata": {},
   "source": [
    "## Часть III Визуализация и индексы"
   ]
  },
  {
   "cell_type": "markdown",
   "id": "e8e07b7c",
   "metadata": {},
   "source": [
    "### По части визуализации есть разные инструменты. Среди рекоммендуемых следующие:\n",
    "\n",
    "### [kepler.gl](https://kepler.gl) - python-библиотека, удобное отрисовывание в jupyter ноутбкуке, поддержка многих форматов данных\n",
    "\n",
    "### [QGIS](https://www.qgis.org/ru/site/about/index.html) - отдельное приложение. Может отрисовывать несколько больший объем данных. Есть возможность редактирования векторых слоев, запуска python-скриптов\n",
    "\n"
   ]
  },
  {
   "cell_type": "markdown",
   "id": "24db0402",
   "metadata": {},
   "source": [
    "### прочитаем датафрейм с недвижимостью Москвы"
   ]
  },
  {
   "cell_type": "code",
   "execution_count": null,
   "id": "00088940",
   "metadata": {},
   "outputs": [],
   "source": [
    "!unzip data/realty_data.csv.zip -d data/"
   ]
  },
  {
   "cell_type": "code",
   "execution_count": null,
   "id": "3a06cb06",
   "metadata": {},
   "outputs": [],
   "source": [
    "!unzip data/realty_data_validation.csv.zip -d data/"
   ]
  },
  {
   "cell_type": "code",
   "execution_count": null,
   "id": "384a7203",
   "metadata": {},
   "outputs": [],
   "source": [
    "realty_data = pd.read_csv('data/realty_data.csv')\n",
    "realty_data.head(5)"
   ]
  },
  {
   "cell_type": "markdown",
   "id": "4f5b1888",
   "metadata": {},
   "source": [
    "### добавим индекс\n",
    "\n",
    "### в качестве индекса будем использовать [гексагональную сетку Uber H3](https://h3geo.org/docs/highlights/indexing)\n",
    "\n",
    "### индекс чаще всего представляет собой шестиугольник определенного разрешения (длины ребра/площади). Всего существует 16 различных разрешений - [см. таблицу](https://h3geo.org/docs/core-library/restable/)\n"
   ]
  },
  {
   "cell_type": "code",
   "execution_count": null,
   "id": "ccd3f7e1",
   "metadata": {},
   "outputs": [],
   "source": [
    "# добавим индекс\n",
    "RES = 8\n",
    "print(f'edge length in meters for resolution {RES} is {h3.edge_length(RES)*1000:.2f}')\n"
   ]
  },
  {
   "cell_type": "code",
   "execution_count": null,
   "id": "2a3a2bb5",
   "metadata": {},
   "outputs": [],
   "source": [
    "realty_data['price_m2'] = realty_data.apply(\n",
    "    lambda t: round(t.price/t.total_square)/1000, axis=1\n",
    ")\n",
    "\n",
    "realty_data['hex_id'] = realty_data.apply(\n",
    "    lambda t: h3.geo_to_h3(t.lat, t.lon, RES), axis=1\n",
    ")\n",
    "\n",
    "realty_data.head()"
   ]
  },
  {
   "cell_type": "code",
   "execution_count": null,
   "id": "cfa63542",
   "metadata": {},
   "outputs": [],
   "source": [
    "#средняя цена квадрата по индексу\n",
    "hex_df = realty_data.groupby('hex_id')[['price', 'total_square']].sum().reset_index()\n",
    "hex_df['price_m2'] = hex_df.apply(\n",
    "    lambda t: round(t.price/t.total_square)/1000.0, axis=1\n",
    ")\n",
    "\n",
    "hex_df.head()\n"
   ]
  },
  {
   "cell_type": "code",
   "execution_count": null,
   "id": "dc3b813d",
   "metadata": {},
   "outputs": [],
   "source": [
    "#теперь сгладим цену взяв среднее по соседним индексам (в радиусе 2 индексов)\n",
    "\n",
    "#соберем в словарь\n",
    "hex_dict = dict(\n",
    "    (hex_id, {'price': price, 'total_square': total_square})\n",
    "    for hex_id,  (price, total_square) in zip(hex_df.hex_id, zip(hex_df.price, hex_df.total_square))\n",
    ")\n"
   ]
  },
  {
   "cell_type": "code",
   "execution_count": null,
   "id": "d1931683",
   "metadata": {},
   "outputs": [],
   "source": [
    "RADIUS = 2\n",
    "\n",
    "hex_df['r2_price'] = hex_df.hex_id.apply(\n",
    "    lambda h: sum(hex_dict.get(n_hex, {}).get('price', 0) for n_hex in h3.k_ring(h, RADIUS))\n",
    ")\n",
    "\n",
    "hex_df['r2_total_square'] = hex_df.hex_id.apply(\n",
    "    lambda h: sum(hex_dict.get(n_hex, {}).get('total_square', 0) for n_hex in h3.k_ring(h, RADIUS))\n",
    ")\n",
    "\n",
    "hex_df['r2_price_m2'] = hex_df.apply(\n",
    "    lambda t: round(t.r2_price/t.r2_total_square)/1000.0, axis=1\n",
    ")\n",
    "\n",
    "hex_df.tail()"
   ]
  },
  {
   "cell_type": "code",
   "execution_count": null,
   "id": "1cb73fc0",
   "metadata": {},
   "outputs": [],
   "source": [
    "realty_map = KeplerGl()\n",
    "realty_map.add_data(realty_data.drop(['description', 'hex_id'], axis=1), name='realty')\n",
    "realty_map.add_data(hex_df, name='hex_avg_price')\n"
   ]
  },
  {
   "cell_type": "code",
   "execution_count": null,
   "id": "91afe7f5",
   "metadata": {},
   "outputs": [],
   "source": [
    "realty_map"
   ]
  },
  {
   "cell_type": "code",
   "execution_count": null,
   "id": "cf3d2a6a",
   "metadata": {},
   "outputs": [],
   "source": [
    "realty_map.save_to_html(file_name='realty.html')"
   ]
  },
  {
   "cell_type": "markdown",
   "id": "3b36f4b5",
   "metadata": {},
   "source": [
    "### удалим в конце файл из-за большого размера"
   ]
  },
  {
   "cell_type": "code",
   "execution_count": null,
   "id": "b94db988",
   "metadata": {},
   "outputs": [],
   "source": [
    "os.remove('realty.html')"
   ]
  }
 ],
 "metadata": {
  "kernelspec": {
   "display_name": "Python 3 (ipykernel)",
   "language": "python",
   "name": "python3"
  },
  "language_info": {
   "codemirror_mode": {
    "name": "ipython",
    "version": 3
   },
   "file_extension": ".py",
   "mimetype": "text/x-python",
   "name": "python",
   "nbconvert_exporter": "python",
   "pygments_lexer": "ipython3",
   "version": "3.9.7"
  }
 },
 "nbformat": 4,
 "nbformat_minor": 5
}
